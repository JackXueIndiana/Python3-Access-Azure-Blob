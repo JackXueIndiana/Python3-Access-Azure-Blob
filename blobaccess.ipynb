{
 "cells": [
  {
   "cell_type": "code",
   "execution_count": 2,
   "metadata": {
    "collapsed": false,
    "deletable": true,
    "editable": true,
    "scrolled": true
   },
   "outputs": [
    {
     "name": "stdout",
     "output_type": "stream",
     "text": [
      "psbu20180215\n",
      "ltKL/ko83b1Wv63QzhQgb4jhZbJR4fFwnwThtPk6vCMGoEaySpidtpOw4axEyYG6rjNj8ei1XLbgXW/DWaPXVg==\n",
      "a\n",
      "Temp file = C:\\Users\\xinxue/Documents\\jacktestblob_c8cd0076-3d24-4702-8b62-5d3ca9da8cb3.txt\n",
      "\n",
      "Uploading to Blob storage as blobjacktestblob_c8cd0076-3d24-4702-8b62-5d3ca9da8cb3.txt\n",
      "\n",
      "List blobs in the container\n",
      "\t Blob name: jacktestblob_c8cd0076-3d24-4702-8b62-5d3ca9da8cb3.txt\n",
      "\n",
      "Downloading blob to C:\\Users\\xinxue/Documents\\jacktestblob_c8cd0076-3d24-4702-8b62-5d3ca9da8cb3_DOWNLOADED.txt\n",
      "Sample finished running. When you hit <any key>, the sample will be deleted and the sample application will exit.b\n",
      "\n",
      "Cleanup done.\n"
     ]
    }
   ],
   "source": [
    "import os, uuid, sys\n",
    "import configparser\n",
    "\n",
    "from azure.storage.blob import BlockBlobService, PublicAccess\n",
    "\n",
    "def run_sample():\n",
    "    try:\n",
    "        # Create the BlockBlockService that is used to call the Blob service for the storage account\n",
    "        local_path=os.path.expanduser(\"~/Documents\")\n",
    "        local_cfg_file_name =\"azure_blob.cfg\"\n",
    "        full_path_to_cfg_file =os.path.join(local_path, local_cfg_file_name)\n",
    "        config = configparser.ConfigParser()\n",
    "        config.read_file(open(full_path_to_cfg_file))\n",
    "        account_name = config.get('AZURE_BLOB', 'account_name').replace('\"', '')\n",
    "        account_key = config.get('AZURE_BLOB', 'account_key').replace('\"', '')\n",
    "        print(account_name)\n",
    "        print(account_key)\n",
    "        input()\n",
    "        \n",
    "        block_blob_service = BlockBlobService(account_name, account_key)\n",
    "\n",
    "        # Create a container called 'jacktestcontainer'.\n",
    "        container_name ='jacktestcontainer'\n",
    "        block_blob_service.create_container(container_name)\n",
    "\n",
    "        # Set the permission so the blobs are public.\n",
    "        block_blob_service.set_container_acl(container_name, public_access=PublicAccess.Container)\n",
    "\n",
    "        # Create a file in Documents to test the upload and download.\n",
    "        local_file_name =\"jacktestblob_\" + str(uuid.uuid4()) + \".txt\"\n",
    "        full_path_to_file =os.path.join(local_path, local_file_name)\n",
    "\n",
    "        # Write text to the file.\n",
    "        file = open(full_path_to_file,  'w')\n",
    "        file.write(\"Hello, World!\")\n",
    "        file.close()\n",
    "\n",
    "        print(\"Temp file = \" + full_path_to_file)\n",
    "        print(\"\\nUploading to Blob storage as blob\" + local_file_name)\n",
    "\n",
    "        # Upload the created file, use local_file_name for the blob name\n",
    "        block_blob_service.create_blob_from_path(container_name, local_file_name, full_path_to_file)\n",
    "\n",
    "        # List the blobs in the container\n",
    "        print(\"\\nList blobs in the container\")\n",
    "        generator = block_blob_service.list_blobs(container_name)\n",
    "        for blob in generator:\n",
    "            print(\"\\t Blob name: \" + blob.name)\n",
    "\n",
    "        # Download the blob(s).\n",
    "        # Add '_DOWNLOADED' as prefix to '.txt' so you can see both files in Documents.\n",
    "        full_path_to_file2 = os.path.join(local_path, str.replace(local_file_name ,'.txt', '_DOWNLOADED.txt'))\n",
    "        print(\"\\nDownloading blob to \" + full_path_to_file2)\n",
    "        block_blob_service.get_blob_to_path(container_name, local_file_name, full_path_to_file2)\n",
    "\n",
    "        sys.stdout.write(\"Sample finished running. When you hit <any key>, the sample will be deleted and the sample \"\n",
    "                         \"application will exit.\")\n",
    "        sys.stdout.flush()\n",
    "        input()\n",
    "\n",
    "        # Clean up resources. This includes the container and the temp files\n",
    "        block_blob_service.delete_container(container_name)\n",
    "        os.remove(full_path_to_file)\n",
    "        os.remove(full_path_to_file2)\n",
    "        print(\"\\nCleanup done.\")\n",
    "    except Exception as e:\n",
    "        print(e)\n",
    "\n",
    "\n",
    "# Main method.\n",
    "run_sample()"
   ]
  },
  {
   "cell_type": "code",
   "execution_count": null,
   "metadata": {
    "collapsed": true,
    "deletable": true,
    "editable": true
   },
   "outputs": [],
   "source": []
  },
  {
   "cell_type": "code",
   "execution_count": null,
   "metadata": {
    "collapsed": true,
    "deletable": true,
    "editable": true
   },
   "outputs": [],
   "source": []
  },
  {
   "cell_type": "code",
   "execution_count": null,
   "metadata": {
    "collapsed": true,
    "deletable": true,
    "editable": true
   },
   "outputs": [],
   "source": []
  }
 ],
 "metadata": {
  "kernelspec": {
   "display_name": "Python 3",
   "language": "python",
   "name": "python3"
  },
  "language_info": {
   "codemirror_mode": {
    "name": "ipython",
    "version": 3
   },
   "file_extension": ".py",
   "mimetype": "text/x-python",
   "name": "python",
   "nbconvert_exporter": "python",
   "pygments_lexer": "ipython3",
   "version": "3.6.1"
  }
 },
 "nbformat": 4,
 "nbformat_minor": 2
}
